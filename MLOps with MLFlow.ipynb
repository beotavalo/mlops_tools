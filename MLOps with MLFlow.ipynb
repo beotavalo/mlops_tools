{
 "cells": [
  {
   "cell_type": "markdown",
   "metadata": {},
   "source": [
    "# Basic of MLOps"
   ]
  },
  {
   "cell_type": "markdown",
   "metadata": {},
   "source": [
    "**MLflow Tutorial: Experiment Tracking and Model Registry**"
   ]
  },
  {
   "cell_type": "markdown",
   "metadata": {},
   "source": [
    "**1. MLflow Installation and Setup**\n",
    "\n",
    "Install MLflow and dependencies\n",
    "\n",
    "```\n",
    "pip install mlflow\n",
    "pip install docker\n",
    "pip install hyperopt\n",
    "pip install xgboost\n",
    "```\n",
    "\n",
    "Start MLflow UI (run in terminal)\n",
    "\n",
    "```\n",
    "mlflow ui --host 0.0.0.0 --port 5000\n",
    "```"
   ]
  },
  {
   "cell_type": "code",
   "execution_count": null,
   "metadata": {},
   "outputs": [
    {
     "ename": "",
     "evalue": "",
     "output_type": "error",
     "traceback": [
      "\u001b[1;31mThe kernel failed to start as the Python Environment 'mlopsenv (Python -1.-1.-1)' is no longer available. Consider selecting another kernel or refreshing the list of Python Environments."
     ]
    }
   ],
   "source": [
    "!pip install mlflow\n",
    "!pip install hyperopt\n",
    "!pip install xgboost"
   ]
  },
  {
   "cell_type": "markdown",
   "metadata": {},
   "source": [
    "2. Docker Setup for MLflow Tracking Server\n",
    "\n",
    "Create a Dockerfile\n",
    "```\n",
    "FROM python:3.8\n",
    "RUN pip install mlflow\n",
    "EXPOSE 5000\n",
    "CMD mlflow server \\\n",
    "    --host 0.0.0.0 \\\n",
    "    --port 5000 \\\n",
    "    --backend-store-uri postgresql://user:password@db:5432/mlflow \\\n",
    "    --default-artifact-root s3://your-bucket/\n",
    "```\n",
    "Build and run\n",
    "```\n",
    "docker build -t mlflow-server .\n",
    "docker run -p 5000:5000 mlflow-server\n",
    "```"
   ]
  },
  {
   "cell_type": "code",
   "execution_count": null,
   "metadata": {},
   "outputs": [
    {
     "ename": "",
     "evalue": "",
     "output_type": "error",
     "traceback": [
      "\u001b[1;31mThe kernel failed to start as the Python Environment 'mlopsenv (Python -1.-1.-1)' is no longer available. Consider selecting another kernel or refreshing the list of Python Environments."
     ]
    }
   ],
   "source": [
    "#Import libraries\n",
    "import mlflow\n",
    "import mlflow.sklearn\n",
    "import numpy as np\n",
    "import pandas as pd\n",
    "from sklearn.model_selection import train_test_split\n",
    "from sklearn.ensemble import RandomForestRegressor\n",
    "from sklearn.metrics import mean_squared_error, r2_score\n",
    "import xgboost as xgb\n",
    "from hyperopt import fmin, tpe, hp, STATUS_OK, Trials\n",
    "import matplotlib.pyplot as plt"
   ]
  },
  {
   "cell_type": "markdown",
   "metadata": {},
   "source": [
    "3. Basic Experiment Tracking"
   ]
  },
  {
   "cell_type": "code",
   "execution_count": 4,
   "metadata": {},
   "outputs": [
    {
     "name": "stderr",
     "output_type": "stream",
     "text": [
      "2024/11/19 19:52:50 INFO mlflow.tracking.fluent: Experiment with name 'regression_experiment' does not exist. Creating a new experiment.\n"
     ]
    },
    {
     "name": "stderr",
     "output_type": "stream",
     "text": [
      "2024/11/19 19:52:53 WARNING mlflow.models.model: Model logged without a signature and input example. Please set `input_example` parameter when logging the model to auto infer the model signature.\n"
     ]
    },
    {
     "data": {
      "image/png": "[encoded data removed]",
      "text/plain": [
       "<Figure size 640x480 with 1 Axes>"
      ]
     },
     "metadata": {},
     "output_type": "display_data"
    }
   ],
   "source": [
    "# 3. Basic Experiment Tracking\n",
    "def load_data():\n",
    "    # Sample data generation\n",
    "    np.random.seed(42)\n",
    "    X = np.random.rand(1000, 4)\n",
    "    y = X[:, 0] * 2 + X[:, 1] * 1.5 + np.random.rand(1000) * 0.1\n",
    "    return train_test_split(X, y, test_size=0.2)\n",
    "\n",
    "def evaluate_model(model, X_test, y_test):\n",
    "    predictions = model.predict(X_test)\n",
    "    mse = mean_squared_error(y_test, predictions)\n",
    "    r2 = r2_score(y_test, predictions)\n",
    "    return mse, r2\n",
    "\n",
    "# Start MLflow experiment\n",
    "mlflow.set_experiment(\"regression_experiment\")\n",
    "\n",
    "X_train, X_test, y_train, y_test = load_data()\n",
    "\n",
    "with mlflow.start_run():\n",
    "    # Train RandomForest model\n",
    "    rf_model = RandomForestRegressor(n_estimators=100)\n",
    "    rf_model.fit(X_train, y_train)\n",
    "    \n",
    "    # Log parameters\n",
    "    mlflow.log_param(\"model_type\", \"RandomForest\")\n",
    "    mlflow.log_param(\"n_estimators\", 100)\n",
    "    \n",
    "    # Evaluate and log metrics\n",
    "    mse, r2 = evaluate_model(rf_model, X_test, y_test)\n",
    "    mlflow.log_metric(\"mse\", mse)\n",
    "    mlflow.log_metric(\"r2\", r2)\n",
    "    \n",
    "    # Log model\n",
    "    mlflow.sklearn.log_model(rf_model, \"random_forest_model\")\n",
    "    \n",
    "    # Log feature importance plot\n",
    "    plt.figure()\n",
    "    feat_imp = pd.Series(rf_model.feature_importances_)\n",
    "    feat_imp.plot(kind='bar')\n",
    "    plt.title(\"Feature Importances\")\n",
    "    mlflow.log_figure(plt.gcf(), \"feature_importance.png\")"
   ]
  },
  {
   "cell_type": "markdown",
   "metadata": {},
   "source": [
    "4. XGBoost Integration"
   ]
  },
  {
   "cell_type": "code",
   "execution_count": 5,
   "metadata": {},
   "outputs": [],
   "source": [
    "# 4. XGBoost Integration\n",
    "def train_xgboost():\n",
    "    with mlflow.start_run(nested=True):\n",
    "        # Create DMatrix\n",
    "        dtrain = xgb.DMatrix(X_train, label=y_train)\n",
    "        dtest = xgb.DMatrix(X_test, label=y_test)\n",
    "        \n",
    "        # XGBoost parameters\n",
    "        params = {\n",
    "            \"objective\": \"reg:squarederror\",\n",
    "            \"max_depth\": 6,\n",
    "            \"learning_rate\": 0.1\n",
    "        }\n",
    "        \n",
    "        # Train model\n",
    "        model = xgb.train(params, dtrain, num_boost_round=100)\n",
    "        \n",
    "        # Log parameters and model\n",
    "        mlflow.log_params(params)\n",
    "        mlflow.xgboost.log_model(model, \"xgboost_model\")\n",
    "        \n",
    "        # Evaluate\n",
    "        predictions = model.predict(dtest)\n",
    "        mse = mean_squared_error(y_test, predictions)\n",
    "        mlflow.log_metric(\"mse\", mse)"
   ]
  },
  {
   "cell_type": "markdown",
   "metadata": {},
   "source": [
    "5. Hyperparameter Optimization"
   ]
  },
  {
   "cell_type": "code",
   "execution_count": 6,
   "metadata": {},
   "outputs": [
    {
     "name": "stdout",
     "output_type": "stream",
     "text": [
      "100%|██████████| 50/50 [00:06<00:00,  7.63trial/s, best loss: 0.0021698771748955544]\n"
     ]
    }
   ],
   "source": [
    "# 5. Hyperparameter Optimization\n",
    "def objective(params):\n",
    "    with mlflow.start_run(nested=True):\n",
    "        rf_model = RandomForestRegressor(**params)\n",
    "        rf_model.fit(X_train, y_train)\n",
    "        mse, _ = evaluate_model(rf_model, X_test, y_test)\n",
    "        \n",
    "        mlflow.log_params(params)\n",
    "        mlflow.log_metric(\"mse\", mse)\n",
    "        \n",
    "        return {\"loss\": mse, \"status\": STATUS_OK}\n",
    "\n",
    "space = {\n",
    "    \"n_estimators\": hp.choice(\"n_estimators\", range(10, 100)),\n",
    "    \"max_depth\": hp.choice(\"max_depth\", range(1, 20)),\n",
    "    \"min_samples_split\": hp.choice(\"min_samples_split\", range(2, 10))\n",
    "}\n",
    "\n",
    "# Run hyperparameter optimization\n",
    "trials = Trials()\n",
    "best = fmin(fn=objective,\n",
    "           space=space,\n",
    "           algo=tpe.suggest,\n",
    "           max_evals=50,\n",
    "           trials=trials)"
   ]
  },
  {
   "cell_type": "markdown",
   "metadata": {},
   "source": [
    "6. Model Registry"
   ]
  },
  {
   "cell_type": "code",
   "execution_count": 7,
   "metadata": {},
   "outputs": [],
   "source": [
    "# 6. Model Registry\n",
    "def register_best_model():\n",
    "    # Get best run\n",
    "    best_run = mlflow.search_runs(\n",
    "        experiment_ids=[mlflow.get_experiment_by_name(\"regression_experiment\").experiment_id],\n",
    "        order_by=[\"metrics.mse ASC\"]\n",
    "    ).iloc[0]\n",
    "    \n",
    "    # Register model\n",
    "    model_uri = f\"runs:/{best_run.run_id}/random_forest_model\"\n",
    "    mv = mlflow.register_model(model_uri, \"RandomForestRegressor\")\n",
    "    \n",
    "    # Transition to Production\n",
    "    client = mlflow.tracking.MlflowClient()\n",
    "    client.transition_model_version_stage(\n",
    "        name=\"RandomForestRegressor\",\n",
    "        version=mv.version,\n",
    "        stage=\"Production\"\n",
    "    )"
   ]
  },
  {
   "cell_type": "markdown",
   "metadata": {},
   "source": [
    "7. Custom Metrics\n"
   ]
  },
  {
   "cell_type": "code",
   "execution_count": 8,
   "metadata": {},
   "outputs": [],
   "source": [
    "# 7. Custom Metrics\n",
    "def custom_metric(y_true, y_pred):\n",
    "    \"\"\"Custom metric example: weighted MSE\"\"\"\n",
    "    weights = np.exp(-np.abs(y_true))\n",
    "    weighted_mse = np.mean(weights * (y_true - y_pred) ** 2)\n",
    "    return weighted_mse\n",
    "\n",
    "# Log custom metric\n",
    "with mlflow.start_run():\n",
    "    rf_model = RandomForestRegressor()\n",
    "    rf_model.fit(X_train, y_train)\n",
    "    predictions = rf_model.predict(X_test)\n",
    "    \n",
    "    custom_score = custom_metric(y_test, predictions)\n",
    "    mlflow.log_metric(\"weighted_mse\", custom_score)"
   ]
  },
  {
   "cell_type": "markdown",
   "metadata": {},
   "source": [
    "8. Loading Models from Registry"
   ]
  },
  {
   "cell_type": "code",
   "execution_count": 9,
   "metadata": {},
   "outputs": [],
   "source": [
    "# 8. Loading Models from Registry\n",
    "def load_production_model():\n",
    "    model = mlflow.pyfunc.load_model(\n",
    "        model_uri=f\"models:/RandomForestRegressor/Production\"\n",
    "    )\n",
    "    return model"
   ]
  },
  {
   "cell_type": "markdown",
   "metadata": {},
   "source": [
    "9. Example usage"
   ]
  },
  {
   "cell_type": "code",
   "execution_count": 10,
   "metadata": {},
   "outputs": [
    {
     "name": "stdout",
     "output_type": "stream",
     "text": [
      "Training RandomForest...\n",
      "Training XGBoost...\n"
     ]
    },
    {
     "name": "stderr",
     "output_type": "stream",
     "text": [
      "/opt/conda/lib/python3.12/site-packages/xgboost/core.py:158: UserWarning: [19:53:20] WARNING: /workspace/src/c_api/c_api.cc:1374: Saving model in the UBJSON format as default.  You can use file extension: `json`, `ubj` or `deprecated` to choose between formats.\n",
      "  warnings.warn(smsg, UserWarning)\n",
      "2024/11/19 19:53:23 WARNING mlflow.models.model: Model logged without a signature and input example. Please set `input_example` parameter when logging the model to auto infer the model signature.\n"
     ]
    },
    {
     "name": "stdout",
     "output_type": "stream",
     "text": [
      "Optimizing hyperparameters...\n",
      "50trial [00:00, ?trial/s, best loss=?]\n",
      "Registering best model...\n"
     ]
    },
    {
     "name": "stderr",
     "output_type": "stream",
     "text": [
      "Successfully registered model 'RandomForestRegressor'.\n",
      "Created version '1' of model 'RandomForestRegressor'.\n",
      "/tmp/ipykernel_21688/1728834432.py:15: FutureWarning: ``mlflow.tracking.client.MlflowClient.transition_model_version_stage`` is deprecated since 2.9.0. Model registry stages will be removed in a future major release. To learn more about the deprecation of model registry stages, see our migration guide here: https://mlflow.org/docs/latest/model-registry.html#migrating-from-stages\n",
      "  client.transition_model_version_stage(\n"
     ]
    }
   ],
   "source": [
    "# Example usage\n",
    "if __name__ == \"__main__\":\n",
    "    # Run basic experiment\n",
    "    with mlflow.start_run(run_name=\"full_experiment\"):\n",
    "        # Train and log RandomForest\n",
    "        print(\"Training RandomForest...\")\n",
    "        rf_model = RandomForestRegressor()\n",
    "        rf_model.fit(X_train, y_train)\n",
    "        mse, r2 = evaluate_model(rf_model, X_test, y_test)\n",
    "        \n",
    "        mlflow.log_params({\n",
    "            \"model_type\": \"RandomForest\",\n",
    "            \"n_estimators\": rf_model.n_estimators\n",
    "        })\n",
    "        mlflow.log_metrics({\n",
    "            \"mse\": mse,\n",
    "            \"r2\": r2\n",
    "        })\n",
    "        \n",
    "        # Train XGBoost\n",
    "        print(\"Training XGBoost...\")\n",
    "        train_xgboost()\n",
    "        \n",
    "        # Run hyperparameter optimization\n",
    "        print(\"Optimizing hyperparameters...\")\n",
    "        best_params = fmin(fn=objective,\n",
    "                         space=space,\n",
    "                         algo=tpe.suggest,\n",
    "                         max_evals=10,\n",
    "                         trials=trials)\n",
    "        \n",
    "        # Register best model\n",
    "        print(\"Registering best model...\")\n",
    "        register_best_model()"
   ]
  }
 ],
 "metadata": {
  "kernelspec": {
   "display_name": "mlopsenv",
   "language": "python",
   "name": "python3"
  },
  "language_info": {
   "codemirror_mode": {
    "name": "ipython",
    "version": 3
   },
   "file_extension": ".py",
   "mimetype": "text/x-python",
   "name": "python",
   "nbconvert_exporter": "python",
   "pygments_lexer": "ipython3",
   "version": "undefined.undefined.undefined"
  }
 },
 "nbformat": 4,
 "nbformat_minor": 2
}
