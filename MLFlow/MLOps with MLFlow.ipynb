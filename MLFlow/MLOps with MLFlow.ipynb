{
 "cells": [
  {
   "cell_type": "markdown",
   "metadata": {},
   "source": [
    "# Basic of MLOps"
   ]
  },
  {
   "cell_type": "markdown",
   "metadata": {},
   "source": [
    "**MLflow Tutorial: Experiment Tracking and Model Registry**"
   ]
  },
  {
   "cell_type": "markdown",
   "metadata": {},
   "source": [
    "**1. MLflow Installation and Setup**\n",
    "\n",
    "Install MLflow and dependencies\n",
    "\n",
    "```\n",
    "pip install mlflow\n",
    "pip install hyperopt\n",
    "pip install xgboost\n",
    "```\n",
    "\n",
    "Start MLflow UI (run in terminal)\n",
    "\n",
    "```\n",
    "mlflow ui --host 0.0.0.0 --port 5000\n",
    "```"
   ]
  },
  {
   "cell_type": "code",
   "execution_count": 51,
   "metadata": {},
   "outputs": [],
   "source": [
    "#!pip install mlflow\n",
    "#!pip install hyperopt\n",
    "#!pip install xgboost"
   ]
  },
  {
   "cell_type": "markdown",
   "metadata": {},
   "source": [
    "2. Docker Setup for MLflow Tracking Server\n",
    "\n",
    "Create a Dockerfile\n",
    "```\n",
    "FROM python:3.8\n",
    "RUN pip install mlflow\n",
    "EXPOSE 5000\n",
    "CMD mlflow server \\\n",
    "    --host 0.0.0.0 \\\n",
    "    --port 5000 \\\n",
    "    --backend-store-uri postgresql://user:password@db:5432/mlflow \\\n",
    "    --default-artifact-root s3://your-bucket/\n",
    "```\n",
    "Build and run\n",
    "```\n",
    "docker build -t mlflow-server .\n",
    "docker run -p 5000:5000 mlflow-server\n",
    "```"
   ]
  },
  {
   "cell_type": "code",
   "execution_count": 1,
   "metadata": {},
   "outputs": [],
   "source": [
    "#Import libraries\n",
    "import mlflow\n",
    "from mlflow.tracking import MlflowClient\n",
    "import mlflow.sklearn\n",
    "import numpy as np\n",
    "import pandas as pd\n",
    "from sklearn.model_selection import train_test_split\n",
    "from sklearn.ensemble import RandomForestRegressor\n",
    "from sklearn.metrics import mean_squared_error, r2_score\n",
    "import xgboost as xgb\n",
    "from hyperopt import fmin, tpe, hp, STATUS_OK, Trials\n",
    "import matplotlib.pyplot as plt"
   ]
  },
  {
   "cell_type": "code",
   "execution_count": 2,
   "metadata": {},
   "outputs": [],
   "source": [
    "#MLFLOW_TRACKING_URI = \"sqlite:///mlflow.db\"\n",
    "#client = MlflowClient(tracking_uri=MLFLOW_TRACKING_URI)\n",
    "mlflow.set_tracking_uri(\"http://127.0.0.1:5000\")"
   ]
  },
  {
   "cell_type": "markdown",
   "metadata": {},
   "source": [
    "**3. Basic Experiment Tracking**"
   ]
  },
  {
   "cell_type": "code",
   "execution_count": 4,
   "metadata": {},
   "outputs": [
    {
     "name": "stderr",
     "output_type": "stream",
     "text": [
      "2024/11/28 01:07:07 INFO mlflow.tracking.fluent: Experiment with name 'Regression_Experiment' does not exist. Creating a new experiment.\n"
     ]
    },
    {
     "name": "stderr",
     "output_type": "stream",
     "text": [
      "2024/11/28 01:07:10 WARNING mlflow.models.model: Model logged without a signature and input example. Please set `input_example` parameter when logging the model to auto infer the model signature.\n"
     ]
    },
    {
     "name": "stdout",
     "output_type": "stream",
     "text": [
      "🏃 View run unequaled-bee-404 at: http://127.0.0.1:5000/#/experiments/679139721047079635/runs/c19ac33cabf443a9b284aa31e8b9685a\n",
      "🧪 View experiment at: http://127.0.0.1:5000/#/experiments/679139721047079635\n"
     ]
    },
    {
     "data": {
      "image/png": "[encoded data removed]",
      "text/plain": [
       "<Figure size 640x480 with 1 Axes>"
      ]
     },
     "metadata": {},
     "output_type": "display_data"
    }
   ],
   "source": [
    "# 3. Basic Experiment Tracking\n",
    "def load_data():\n",
    "    # Sample data generation\n",
    "    np.random.seed(42)\n",
    "    X = np.random.rand(1000, 4)\n",
    "    y = X[:, 0] * 2 + X[:, 1] * 1.5 + np.random.rand(1000) * 0.1\n",
    "    return train_test_split(X, y, test_size=0.2)\n",
    "\n",
    "def evaluate_model(model, X_test, y_test):\n",
    "    predictions = model.predict(X_test)\n",
    "    mse = mean_squared_error(y_test, predictions)\n",
    "    r2 = r2_score(y_test, predictions)\n",
    "    return mse, r2\n",
    "\n",
    "# Start MLflow experiment\n",
    "mlflow.set_experiment(\"Regression_Experiment\")\n",
    "\n",
    "X_train, X_test, y_train, y_test = load_data()\n",
    "\n",
    "with mlflow.start_run():\n",
    "    # Train RandomForest model\n",
    "    rf_model = RandomForestRegressor(n_estimators=100)\n",
    "    rf_model.fit(X_train, y_train)\n",
    "    \n",
    "    # Log parameters\n",
    "    mlflow.log_param(\"model_type\", \"RandomForest\")\n",
    "    mlflow.log_param(\"n_estimators\", 100)\n",
    "    \n",
    "    # Evaluate and log metrics\n",
    "    mse, r2 = evaluate_model(rf_model, X_test, y_test)\n",
    "    mlflow.log_metric(\"mse\", mse)\n",
    "    mlflow.log_metric(\"r2\", r2)\n",
    "    \n",
    "    # Log model\n",
    "    mlflow.sklearn.log_model(rf_model, \"random_forest_model\")\n",
    "    \n",
    "    # Log feature importance plot\n",
    "    plt.figure()\n",
    "    feat_imp = pd.Series(rf_model.feature_importances_)\n",
    "    feat_imp.plot(kind='bar')\n",
    "    plt.title(\"Feature Importances\")\n",
    "    mlflow.log_figure(plt.gcf(), \"feature_importance.png\")"
   ]
  },
  {
   "cell_type": "markdown",
   "metadata": {},
   "source": [
    "4. XGBoost Integration"
   ]
  },
  {
   "cell_type": "code",
   "execution_count": 6,
   "metadata": {},
   "outputs": [],
   "source": [
    "# 4. XGBoost Integration\n",
    "def train_xgboost():\n",
    "    with mlflow.start_run(nested=True):\n",
    "        # Create DMatrix\n",
    "        dtrain = xgb.DMatrix(X_train, label=y_train)\n",
    "        dtest = xgb.DMatrix(X_test, label=y_test)\n",
    "        \n",
    "        # XGBoost parameters\n",
    "        params = {\n",
    "            \"objective\": \"reg:squarederror\",\n",
    "            \"max_depth\": 6,\n",
    "            \"learning_rate\": 0.1\n",
    "        }\n",
    "        \n",
    "        # Train model\n",
    "        model = xgb.train(params, dtrain, num_boost_round=100)\n",
    "        \n",
    "        # Log parameters and model\n",
    "        mlflow.log_params(params)\n",
    "        mlflow.xgboost.log_model(model, \"xgboost_model\")\n",
    "        \n",
    "        # Evaluate\n",
    "        predictions = model.predict(dtest)\n",
    "        mse = mean_squared_error(y_test, predictions)\n",
    "        mlflow.log_metric(\"mse\", mse)"
   ]
  },
  {
   "cell_type": "markdown",
   "metadata": {},
   "source": [
    "5. Hyperparameter Optimization"
   ]
  },
  {
   "cell_type": "code",
   "execution_count": 7,
   "metadata": {},
   "outputs": [
    {
     "name": "stdout",
     "output_type": "stream",
     "text": [
      "🏃 View run dazzling-hawk-589 at: http://127.0.0.1:5000/#/experiments/679139721047079635/runs/7b8f49c2c3b64512b07009448c5f4ee4\n",
      "\n",
      "🧪 View experiment at: http://127.0.0.1:5000/#/experiments/679139721047079635\n",
      "\n",
      "🏃 View run placid-elk-50 at: http://127.0.0.1:5000/#/experiments/679139721047079635/runs/e089c36bc51f4bdebded6ea88ad4ab60\n",
      "\n",
      "🧪 View experiment at: http://127.0.0.1:5000/#/experiments/679139721047079635      \n",
      "\n",
      "🏃 View run handsome-lynx-339 at: http://127.0.0.1:5000/#/experiments/679139721047079635/runs/2a48924912374f21b2d4ceac229019ec\n",
      "\n",
      "🧪 View experiment at: http://127.0.0.1:5000/#/experiments/679139721047079635      \n",
      "\n",
      "🏃 View run upbeat-mule-249 at: http://127.0.0.1:5000/#/experiments/679139721047079635/runs/2c3cceec3ac1469fa9a02bf44dea7f4b\n",
      "\n",
      "🧪 View experiment at: http://127.0.0.1:5000/#/experiments/679139721047079635      \n",
      "\n",
      "🏃 View run languid-mule-625 at: http://127.0.0.1:5000/#/experiments/679139721047079635/runs/5bd28043adc74af9a1afbb70109102f0\n",
      "\n",
      "🧪 View experiment at: http://127.0.0.1:5000/#/experiments/679139721047079635      \n",
      "\n",
      "🏃 View run stylish-perch-499 at: http://127.0.0.1:5000/#/experiments/679139721047079635/runs/5377dabdebb940e895f10db66a75f7c8\n",
      "\n",
      "🧪 View experiment at: http://127.0.0.1:5000/#/experiments/679139721047079635      \n",
      "\n",
      "🏃 View run intrigued-owl-557 at: http://127.0.0.1:5000/#/experiments/679139721047079635/runs/acb6379a0687463d9c52acd695fadc00\n",
      "\n",
      "🧪 View experiment at: http://127.0.0.1:5000/#/experiments/679139721047079635      \n",
      "\n",
      "🏃 View run luxuriant-steed-875 at: http://127.0.0.1:5000/#/experiments/679139721047079635/runs/28357999214c4fca833c42f07c0bf6b9\n",
      "\n",
      "🧪 View experiment at: http://127.0.0.1:5000/#/experiments/679139721047079635      \n",
      "\n",
      "🏃 View run persistent-seal-7 at: http://127.0.0.1:5000/#/experiments/679139721047079635/runs/e2f01e0cfbdc43928e8c7747adf593b8\n",
      "\n",
      "🧪 View experiment at: http://127.0.0.1:5000/#/experiments/679139721047079635      \n",
      "\n",
      "🏃 View run languid-shark-788 at: http://127.0.0.1:5000/#/experiments/679139721047079635/runs/7ccc7231c97c4d0799a81b6441abce25\n",
      "\n",
      "🧪 View experiment at: http://127.0.0.1:5000/#/experiments/679139721047079635      \n",
      "\n",
      "🏃 View run shivering-zebra-479 at: http://127.0.0.1:5000/#/experiments/679139721047079635/runs/785d06ce328a489d9ef47490233bdd8c\n",
      "\n",
      "🧪 View experiment at: http://127.0.0.1:5000/#/experiments/679139721047079635       \n",
      "\n",
      "🏃 View run tasteful-shad-41 at: http://127.0.0.1:5000/#/experiments/679139721047079635/runs/61055b3d4b0f4384b7e6d1486e074a28\n",
      "\n",
      "🧪 View experiment at: http://127.0.0.1:5000/#/experiments/679139721047079635       \n",
      "\n",
      "🏃 View run sassy-fly-522 at: http://127.0.0.1:5000/#/experiments/679139721047079635/runs/a6f4f38f849d468786843a3fcbab4552\n",
      "\n",
      "🧪 View experiment at: http://127.0.0.1:5000/#/experiments/679139721047079635       \n",
      "\n",
      "🏃 View run learned-cod-0 at: http://127.0.0.1:5000/#/experiments/679139721047079635/runs/fb66f709515b47539fe49ec0b4ca9536\n",
      "\n",
      "🧪 View experiment at: http://127.0.0.1:5000/#/experiments/679139721047079635       \n",
      "\n",
      "🏃 View run calm-turtle-36 at: http://127.0.0.1:5000/#/experiments/679139721047079635/runs/1e73f359453b41f794fbc563b4cd5a67\n",
      "\n",
      "🧪 View experiment at: http://127.0.0.1:5000/#/experiments/679139721047079635       \n",
      "\n",
      "🏃 View run sneaky-turtle-663 at: http://127.0.0.1:5000/#/experiments/679139721047079635/runs/3166d0bd984547f4bbb0b3afeecb02a4\n",
      "\n",
      "🧪 View experiment at: http://127.0.0.1:5000/#/experiments/679139721047079635       \n",
      "\n",
      "🏃 View run awesome-frog-204 at: http://127.0.0.1:5000/#/experiments/679139721047079635/runs/587f431f1eca4b2e88d2b2cbb1a6716d\n",
      "\n",
      "🧪 View experiment at: http://127.0.0.1:5000/#/experiments/679139721047079635       \n",
      "\n",
      "🏃 View run rambunctious-bug-956 at: http://127.0.0.1:5000/#/experiments/679139721047079635/runs/b7b0128c86b443e9b42564299f474117\n",
      "\n",
      "🧪 View experiment at: http://127.0.0.1:5000/#/experiments/679139721047079635       \n",
      "\n",
      "🏃 View run carefree-loon-85 at: http://127.0.0.1:5000/#/experiments/679139721047079635/runs/11d53093bc5b4f679c82219d2903efff\n",
      "\n",
      "🧪 View experiment at: http://127.0.0.1:5000/#/experiments/679139721047079635       \n",
      "\n",
      "🏃 View run grandiose-fly-916 at: http://127.0.0.1:5000/#/experiments/679139721047079635/runs/761c79ae5d52490a99c6255e6c081a37\n",
      "\n",
      "🧪 View experiment at: http://127.0.0.1:5000/#/experiments/679139721047079635       \n",
      "\n",
      "🏃 View run worried-mouse-86 at: http://127.0.0.1:5000/#/experiments/679139721047079635/runs/728387bcf3f9488680454b3320e085e1\n",
      "\n",
      "🧪 View experiment at: http://127.0.0.1:5000/#/experiments/679139721047079635       \n",
      "\n",
      "🏃 View run auspicious-wasp-411 at: http://127.0.0.1:5000/#/experiments/679139721047079635/runs/83df4c0303ac4761b1e2bf9b9039732d\n",
      "\n",
      "🧪 View experiment at: http://127.0.0.1:5000/#/experiments/679139721047079635       \n",
      "\n",
      "🏃 View run caring-koi-842 at: http://127.0.0.1:5000/#/experiments/679139721047079635/runs/f1bf09b310754b85b2c227cda7644cbb\n",
      "\n",
      "🧪 View experiment at: http://127.0.0.1:5000/#/experiments/679139721047079635       \n",
      "\n",
      "🏃 View run rumbling-colt-287 at: http://127.0.0.1:5000/#/experiments/679139721047079635/runs/b95fa1611d474a7c90fc0353a66dc4f7\n",
      "\n",
      "🧪 View experiment at: http://127.0.0.1:5000/#/experiments/679139721047079635       \n",
      "\n",
      "🏃 View run adaptable-asp-844 at: http://127.0.0.1:5000/#/experiments/679139721047079635/runs/20e0c08f51c9476ab511360940b4eaaf\n",
      "\n",
      "🧪 View experiment at: http://127.0.0.1:5000/#/experiments/679139721047079635       \n",
      "\n",
      "🏃 View run auspicious-shrew-121 at: http://127.0.0.1:5000/#/experiments/679139721047079635/runs/4b7fb65417b14d0f9bf7363c5181bdf1\n",
      "\n",
      "🧪 View experiment at: http://127.0.0.1:5000/#/experiments/679139721047079635       \n",
      "\n",
      "🏃 View run gifted-rook-52 at: http://127.0.0.1:5000/#/experiments/679139721047079635/runs/9783cdba5c304aa397e27526cba488ab\n",
      "\n",
      "🧪 View experiment at: http://127.0.0.1:5000/#/experiments/679139721047079635       \n",
      "\n",
      "🏃 View run illustrious-ape-725 at: http://127.0.0.1:5000/#/experiments/679139721047079635/runs/a1e99ce4ac934f8f97e996116903fad4\n",
      "\n",
      "🧪 View experiment at: http://127.0.0.1:5000/#/experiments/679139721047079635       \n",
      "\n",
      "🏃 View run nimble-trout-809 at: http://127.0.0.1:5000/#/experiments/679139721047079635/runs/c831419695ce443ca313803fadc953b1\n",
      "\n",
      "🧪 View experiment at: http://127.0.0.1:5000/#/experiments/679139721047079635       \n",
      "\n",
      "🏃 View run capricious-crow-961 at: http://127.0.0.1:5000/#/experiments/679139721047079635/runs/e90ee36a559c44bba9c674b5d7708c8a\n",
      "\n",
      "🧪 View experiment at: http://127.0.0.1:5000/#/experiments/679139721047079635       \n",
      "\n",
      "🏃 View run nebulous-conch-226 at: http://127.0.0.1:5000/#/experiments/679139721047079635/runs/9f7f5c7d51ed4c859fa10d9d753f60c4\n",
      "\n",
      "🧪 View experiment at: http://127.0.0.1:5000/#/experiments/679139721047079635       \n",
      "\n",
      "🏃 View run bouncy-whale-936 at: http://127.0.0.1:5000/#/experiments/679139721047079635/runs/0fb43f6cb48b46eca3646379f925c29a\n",
      "\n",
      "🧪 View experiment at: http://127.0.0.1:5000/#/experiments/679139721047079635       \n",
      "\n",
      "🏃 View run zealous-bug-867 at: http://127.0.0.1:5000/#/experiments/679139721047079635/runs/0594712c31dd455c888b42679d6a27ea\n",
      "\n",
      "🧪 View experiment at: http://127.0.0.1:5000/#/experiments/679139721047079635       \n",
      "\n",
      "🏃 View run popular-mare-160 at: http://127.0.0.1:5000/#/experiments/679139721047079635/runs/02202ed22264445192cdd6dba0d9e39d\n",
      "\n",
      "🧪 View experiment at: http://127.0.0.1:5000/#/experiments/679139721047079635       \n",
      "\n",
      "🏃 View run bouncy-calf-560 at: http://127.0.0.1:5000/#/experiments/679139721047079635/runs/efa79415584a4b42920c51b2ab88b19d\n",
      "\n",
      "🧪 View experiment at: http://127.0.0.1:5000/#/experiments/679139721047079635       \n",
      "\n",
      "🏃 View run funny-skunk-990 at: http://127.0.0.1:5000/#/experiments/679139721047079635/runs/ac3c7b0679a4436ab4f63f1a32fe2305\n",
      "\n",
      "🧪 View experiment at: http://127.0.0.1:5000/#/experiments/679139721047079635       \n",
      "\n",
      "🏃 View run aged-crab-832 at: http://127.0.0.1:5000/#/experiments/679139721047079635/runs/bdfc49fa7f7d4347adf2d23653d40c8a\n",
      "\n",
      "🧪 View experiment at: http://127.0.0.1:5000/#/experiments/679139721047079635       \n",
      "\n",
      "🏃 View run luminous-goose-287 at: http://127.0.0.1:5000/#/experiments/679139721047079635/runs/6b6423423bf94766bc4c0c2d489b3832\n",
      "\n",
      "🧪 View experiment at: http://127.0.0.1:5000/#/experiments/679139721047079635       \n",
      "\n",
      "🏃 View run stately-kit-861 at: http://127.0.0.1:5000/#/experiments/679139721047079635/runs/87b7328edfa64aaf9fed3d3cab055e81\n",
      "\n",
      "🧪 View experiment at: http://127.0.0.1:5000/#/experiments/679139721047079635       \n",
      "\n",
      "🏃 View run righteous-bat-255 at: http://127.0.0.1:5000/#/experiments/679139721047079635/runs/234e2b226e42492180259ff2fc3cb354\n",
      "\n",
      "🧪 View experiment at: http://127.0.0.1:5000/#/experiments/679139721047079635       \n",
      "\n",
      "🏃 View run adventurous-kite-2 at: http://127.0.0.1:5000/#/experiments/679139721047079635/runs/9ab178efeea547bf84bd82e95042fde0\n",
      "\n",
      "🧪 View experiment at: http://127.0.0.1:5000/#/experiments/679139721047079635       \n",
      "\n",
      "🏃 View run worried-sow-943 at: http://127.0.0.1:5000/#/experiments/679139721047079635/runs/47535e2d4e5c40889f9c5ffd63b82e93\n",
      "\n",
      "🧪 View experiment at: http://127.0.0.1:5000/#/experiments/679139721047079635       \n",
      "\n",
      "🏃 View run rogue-perch-561 at: http://127.0.0.1:5000/#/experiments/679139721047079635/runs/e757fe30f6094d10aa7999d60ae8386c\n",
      "\n",
      "🧪 View experiment at: http://127.0.0.1:5000/#/experiments/679139721047079635       \n",
      "\n",
      "🏃 View run chill-yak-387 at: http://127.0.0.1:5000/#/experiments/679139721047079635/runs/bc616deada5d4a2ca4cede6fc1417bd9\n",
      "\n",
      "🧪 View experiment at: http://127.0.0.1:5000/#/experiments/679139721047079635       \n",
      "\n",
      "🏃 View run unique-steed-902 at: http://127.0.0.1:5000/#/experiments/679139721047079635/runs/e8f7cde4fafa46379e47fbb512f77f2c\n",
      "\n",
      "🧪 View experiment at: http://127.0.0.1:5000/#/experiments/679139721047079635       \n",
      "\n",
      "🏃 View run abrasive-cow-647 at: http://127.0.0.1:5000/#/experiments/679139721047079635/runs/cffe2f813e3b463a8d29226ec606f619\n",
      "\n",
      "🧪 View experiment at: http://127.0.0.1:5000/#/experiments/679139721047079635       \n",
      "\n",
      "🏃 View run tasteful-hog-182 at: http://127.0.0.1:5000/#/experiments/679139721047079635/runs/eebfe007905e4251aec62f5abc813468\n",
      "\n",
      "🧪 View experiment at: http://127.0.0.1:5000/#/experiments/679139721047079635       \n",
      "\n",
      "🏃 View run gifted-doe-304 at: http://127.0.0.1:5000/#/experiments/679139721047079635/runs/950964118dad444eb2c26ff30d9d7cea\n",
      "\n",
      "🧪 View experiment at: http://127.0.0.1:5000/#/experiments/679139721047079635       \n",
      "\n",
      "🏃 View run hilarious-rook-377 at: http://127.0.0.1:5000/#/experiments/679139721047079635/runs/3cf3b5f119544e04bbb8c5330b46c64f\n",
      "\n",
      "🧪 View experiment at: http://127.0.0.1:5000/#/experiments/679139721047079635       \n",
      "\n",
      "🏃 View run tasteful-cub-670 at: http://127.0.0.1:5000/#/experiments/679139721047079635/runs/179a6641c8c740f6959a30faf601cdae\n",
      "\n",
      "🧪 View experiment at: http://127.0.0.1:5000/#/experiments/679139721047079635       \n",
      "\n",
      "100%|██████████| 50/50 [00:08<00:00,  5.70trial/s, best loss: 0.0021818121617814892]\n"
     ]
    }
   ],
   "source": [
    "# 5. Hyperparameter Optimization\n",
    "def objective(params):\n",
    "    with mlflow.start_run(nested=True):\n",
    "        rf_model = RandomForestRegressor(**params)\n",
    "        rf_model.fit(X_train, y_train)\n",
    "        mse, _ = evaluate_model(rf_model, X_test, y_test)\n",
    "        \n",
    "        mlflow.log_params(params)\n",
    "        mlflow.log_metric(\"mse\", mse)\n",
    "        \n",
    "        return {\"loss\": mse, \"status\": STATUS_OK}\n",
    "\n",
    "space = {\n",
    "    \"n_estimators\": hp.choice(\"n_estimators\", range(10, 100)),\n",
    "    \"max_depth\": hp.choice(\"max_depth\", range(1, 20)),\n",
    "    \"min_samples_split\": hp.choice(\"min_samples_split\", range(2, 10))\n",
    "}\n",
    "\n",
    "# Run hyperparameter optimization\n",
    "trials = Trials()\n",
    "best = fmin(fn=objective,\n",
    "           space=space,\n",
    "           algo=tpe.suggest,\n",
    "           max_evals=50,\n",
    "           trials=trials)"
   ]
  },
  {
   "cell_type": "markdown",
   "metadata": {},
   "source": [
    "**6. Model Registry**"
   ]
  },
  {
   "cell_type": "code",
   "execution_count": 8,
   "metadata": {},
   "outputs": [],
   "source": [
    "# 6. Model Registry\n",
    "def register_best_model():\n",
    "    # Get best run\n",
    "    best_run = mlflow.search_runs(\n",
    "        experiment_ids=[mlflow.get_experiment_by_name(\"regression_experiment\").experiment_id],\n",
    "        order_by=[\"metrics.mse ASC\"]\n",
    "    ).iloc[0]\n",
    "    \n",
    "    # Register model\n",
    "    model_uri = f\"runs:/{best_run.run_id}/random_forest_model\"\n",
    "    mv = mlflow.register_model(model_uri, \"RandomForestRegressor\")\n",
    "    \n",
    "    # Transition to Production\n",
    "    client = mlflow.tracking.MlflowClient()\n",
    "    client.transition_model_version_stage(\n",
    "        name=\"RandomForestRegressor\",\n",
    "        version=mv.version,\n",
    "        stage=\"Production\"\n",
    "    )"
   ]
  },
  {
   "cell_type": "markdown",
   "metadata": {},
   "source": [
    "**7. Custom Metrics**\n"
   ]
  },
  {
   "cell_type": "code",
   "execution_count": 9,
   "metadata": {},
   "outputs": [
    {
     "name": "stdout",
     "output_type": "stream",
     "text": [
      "🏃 View run polite-newt-747 at: http://127.0.0.1:5000/#/experiments/679139721047079635/runs/38cb832dce074e3b913dfbeadd24021d\n",
      "🧪 View experiment at: http://127.0.0.1:5000/#/experiments/679139721047079635\n"
     ]
    }
   ],
   "source": [
    "# 7. Custom Metrics\n",
    "def custom_metric(y_true, y_pred):\n",
    "    \"\"\"Custom metric example: weighted MSE\"\"\"\n",
    "    weights = np.exp(-np.abs(y_true))\n",
    "    weighted_mse = np.mean(weights * (y_true - y_pred) ** 2)\n",
    "    return weighted_mse\n",
    "\n",
    "# Log custom metric\n",
    "with mlflow.start_run():\n",
    "    rf_model = RandomForestRegressor()\n",
    "    rf_model.fit(X_train, y_train)\n",
    "    predictions = rf_model.predict(X_test)\n",
    "    \n",
    "    custom_score = custom_metric(y_test, predictions)\n",
    "    mlflow.log_metric(\"weighted_mse\", custom_score)"
   ]
  },
  {
   "cell_type": "markdown",
   "metadata": {},
   "source": [
    "**8. Loading Models from Registry**"
   ]
  },
  {
   "cell_type": "code",
   "execution_count": 10,
   "metadata": {},
   "outputs": [],
   "source": [
    "# 8. Loading Models from Registry\n",
    "def load_production_model():\n",
    "    model = mlflow.pyfunc.load_model(\n",
    "        model_uri=f\"models:/RandomForestRegressor/Production\"\n",
    "    )\n",
    "    return model"
   ]
  },
  {
   "cell_type": "markdown",
   "metadata": {},
   "source": [
    "9. Example usage"
   ]
  },
  {
   "cell_type": "code",
   "execution_count": 11,
   "metadata": {},
   "outputs": [
    {
     "name": "stdout",
     "output_type": "stream",
     "text": [
      "Training RandomForest...\n",
      "Training XGBoost...\n"
     ]
    },
    {
     "name": "stderr",
     "output_type": "stream",
     "text": [
      "/home/codespace/.python/current/lib/python3.12/site-packages/xgboost/core.py:158: UserWarning: [01:11:48] WARNING: /workspace/src/c_api/c_api.cc:1374: Saving model in the UBJSON format as default.  You can use file extension: `json`, `ubj` or `deprecated` to choose between formats.\n",
      "  warnings.warn(smsg, UserWarning)\n",
      "2024/11/28 01:11:49 WARNING mlflow.models.model: Model logged without a signature and input example. Please set `input_example` parameter when logging the model to auto infer the model signature.\n"
     ]
    },
    {
     "name": "stdout",
     "output_type": "stream",
     "text": [
      "🏃 View run dapper-ram-971 at: http://127.0.0.1:5000/#/experiments/679139721047079635/runs/8ec81ffdb5964528984e9e959f92c562\n",
      "🧪 View experiment at: http://127.0.0.1:5000/#/experiments/679139721047079635\n",
      "Optimizing hyperparameters...\n",
      "50trial [00:00, ?trial/s, best loss=?]\n",
      "Registering best model...\n"
     ]
    },
    {
     "name": "stderr",
     "output_type": "stream",
     "text": [
      "Registered model 'RandomForestRegressor' already exists. Creating a new version of this model...\n",
      "2024/11/28 01:11:50 INFO mlflow.store.model_registry.abstract_store: Waiting up to 300 seconds for model version to finish creation. Model name: RandomForestRegressor, version 5\n"
     ]
    },
    {
     "name": "stdout",
     "output_type": "stream",
     "text": [
      "🏃 View run full_experiment at: http://127.0.0.1:5000/#/experiments/679139721047079635/runs/4b669335c08b4de7ac8b01e94c7eaae9\n",
      "🧪 View experiment at: http://127.0.0.1:5000/#/experiments/679139721047079635\n"
     ]
    },
    {
     "name": "stderr",
     "output_type": "stream",
     "text": [
      "Created version '5' of model 'RandomForestRegressor'.\n",
      "/tmp/ipykernel_1405/1728834432.py:15: FutureWarning: ``mlflow.tracking.client.MlflowClient.transition_model_version_stage`` is deprecated since 2.9.0. Model registry stages will be removed in a future major release. To learn more about the deprecation of model registry stages, see our migration guide here: https://mlflow.org/docs/latest/model-registry.html#migrating-from-stages\n",
      "  client.transition_model_version_stage(\n"
     ]
    }
   ],
   "source": [
    "# Example usage\n",
    "if __name__ == \"__main__\":\n",
    "    # Run basic experiment\n",
    "    with mlflow.start_run(run_name=\"full_experiment\"):\n",
    "        # Train and log RandomForest\n",
    "        print(\"Training RandomForest...\")\n",
    "        rf_model = RandomForestRegressor()\n",
    "        rf_model.fit(X_train, y_train)\n",
    "        mse, r2 = evaluate_model(rf_model, X_test, y_test)\n",
    "        \n",
    "        mlflow.log_params({\n",
    "            \"model_type\": \"RandomForest\",\n",
    "            \"n_estimators\": rf_model.n_estimators\n",
    "        })\n",
    "        mlflow.log_metrics({\n",
    "            \"mse\": mse,\n",
    "            \"r2\": r2\n",
    "        })\n",
    "        \n",
    "        # Train XGBoost\n",
    "        print(\"Training XGBoost...\")\n",
    "        train_xgboost()\n",
    "        \n",
    "        # Run hyperparameter optimization\n",
    "        print(\"Optimizing hyperparameters...\")\n",
    "        best_params = fmin(fn=objective,\n",
    "                         space=space,\n",
    "                         algo=tpe.suggest,\n",
    "                         max_evals=10,\n",
    "                         trials=trials)\n",
    "        \n",
    "        # Register best model\n",
    "        print(\"Registering best model...\")\n",
    "        register_best_model()"
   ]
  }
 ],
 "metadata": {
  "kernelspec": {
   "display_name": "Python 3",
   "language": "python",
   "name": "python3"
  },
  "language_info": {
   "codemirror_mode": {
    "name": "ipython",
    "version": 3
   },
   "file_extension": ".py",
   "mimetype": "text/x-python",
   "name": "python",
   "nbconvert_exporter": "python",
   "pygments_lexer": "ipython3",
   "version": "3.12.1"
  }
 },
 "nbformat": 4,
 "nbformat_minor": 2
}
